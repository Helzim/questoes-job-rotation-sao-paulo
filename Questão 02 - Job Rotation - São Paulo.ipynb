{
 "cells": [
  {
   "cell_type": "markdown",
   "id": "544ca82f",
   "metadata": {},
   "source": [
    "2) Dado a sequência de Fibonacci, onde se inicia por 0 e 1 e o próximo valor sempre será a soma dos 2 valores anteriores (exemplo: 0, 1, 1, 2, 3, 5, 8, 13, 21, 34...), escreva um programa na linguagem que desejar onde, informado um número, ele calcule a sequência de Fibonacci e retorne uma mensagem avisando se o número informado pertence ou não a sequência.\n",
    "IMPORTANTE:\n",
    "Esse número pode ser informado através de qualquer entrada de sua preferência ou pode ser previamente definido no código;"
   ]
  },
  {
   "cell_type": "code",
   "execution_count": 3,
   "id": "083b1de0",
   "metadata": {},
   "outputs": [
    {
     "name": "stdout",
     "output_type": "stream",
     "text": [
      "Digite o numero que deseja: 10\n",
      "O numero 10 não está na sequência de fibonacci.\n"
     ]
    }
   ],
   "source": [
    "# Solicita o número para o úsuario\n",
    "numero = int(input(\"Digite o numero que deseja: \"))\n",
    "sequencia_fibonacci = [0, 1]\n",
    "\n",
    "# Inicia a sequência de Fibonacci\n",
    "while sequencia_fibonacci[-1] < numero:\n",
    "    proximo = sequencia_fibonacci[-1] + sequencia_fibonacci[-2]\n",
    "    sequencia_fibonacci.append(proximo)\n",
    "\n",
    "# Verifica se o número digitado está na sequência\n",
    "if numero in sequencia_fibonacci:\n",
    "    print (f\"O numero {numero} está na sequência de fibonacci.\")\n",
    "else:\n",
    "    print (f\"O numero {numero} não está na sequência de fibonacci.\")"
   ]
  }
 ],
 "metadata": {
  "kernelspec": {
   "display_name": "Python 3 (ipykernel)",
   "language": "python",
   "name": "python3"
  },
  "language_info": {
   "codemirror_mode": {
    "name": "ipython",
    "version": 3
   },
   "file_extension": ".py",
   "mimetype": "text/x-python",
   "name": "python",
   "nbconvert_exporter": "python",
   "pygments_lexer": "ipython3",
   "version": "3.9.7"
  }
 },
 "nbformat": 4,
 "nbformat_minor": 5
}
