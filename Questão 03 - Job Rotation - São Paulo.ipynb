{
 "cells": [
  {
   "cell_type": "markdown",
   "id": "18013b00",
   "metadata": {},
   "source": [
    "3) Dado um vetor que guarda o valor de faturamento diário de uma distribuidora, faça um programa, na linguagem que desejar, que calcule e retorne:\n",
    "• O menor valor de faturamento ocorrido em um dia do mês;\n",
    "• O maior valor de faturamento ocorrido em um dia do mês;\n",
    "• Número de dias no mês em que o valor de faturamento diário foi superior à média mensal.\n",
    "IMPORTANTE:\n",
    "a) Usar o json ou xml disponível como fonte dos dados do faturamento mensal;\n",
    "b) Podem existir dias sem faturamento, como nos finais de semana e feriados. Estes dias devem ser ignorados no cálculo da média;"
   ]
  },
  {
   "cell_type": "code",
   "execution_count": 1,
   "id": "8f6681ff",
   "metadata": {},
   "outputs": [
    {
     "name": "stdout",
     "output_type": "stream",
     "text": [
      "Menor valor de faturamento diário: 52\n",
      "Maior valor de faturamento diário: 9378\n",
      "Número de dias com faturamento acima da média: 17\n"
     ]
    }
   ],
   "source": [
    "import json\n",
    "from datetime import datetime\n",
    "\n",
    "# Importa o arquivo JSON com os dados de faturamento mensal\n",
    "with open('faturamento_mensal.json', 'r') as file:\n",
    "    faturamento_mensal = json.load(file)\n",
    "\n",
    "# Calcula o menor e o maior valor de faturamento diário\n",
    "menor_valor = min(faturamento_mensal)\n",
    "maior_valor = max(faturamento_mensal)\n",
    "\n",
    "# Calcula a média de faturamento diário, ignorando os dias sem faturamento\n",
    "soma_valores = 0\n",
    "num_dias = 0\n",
    "for valor in faturamento_mensal:\n",
    "    if valor != 0:\n",
    "        soma_valores += valor\n",
    "        num_dias += 1\n",
    "\n",
    "media = soma_valores / num_dias\n",
    "\n",
    "# Percorre o vetor novamente e conta quantos dias tiveram um valor de faturamento superior à média mensal\n",
    "dias_acima_media = 0\n",
    "for valor in faturamento_mensal:\n",
    "    if valor > media:\n",
    "        dias_acima_media += 1\n",
    "\n",
    "# Imprime os resultados\n",
    "print(\"Menor valor de faturamento diário:\", menor_valor)\n",
    "print(\"Maior valor de faturamento diário:\", maior_valor)\n",
    "print(\"Número de dias com faturamento acima da média:\", dias_acima_media)\n"
   ]
  },
  {
   "cell_type": "code",
   "execution_count": null,
   "id": "b7218764",
   "metadata": {},
   "outputs": [],
   "source": []
  }
 ],
 "metadata": {
  "kernelspec": {
   "display_name": "Python 3 (ipykernel)",
   "language": "python",
   "name": "python3"
  },
  "language_info": {
   "codemirror_mode": {
    "name": "ipython",
    "version": 3
   },
   "file_extension": ".py",
   "mimetype": "text/x-python",
   "name": "python",
   "nbconvert_exporter": "python",
   "pygments_lexer": "ipython3",
   "version": "3.9.7"
  }
 },
 "nbformat": 4,
 "nbformat_minor": 5
}
