{
 "cells": [
  {
   "cell_type": "markdown",
   "id": "cd19fc59",
   "metadata": {},
   "source": [
    "4) Dado o valor de faturamento mensal de uma distribuidora, detalhado por estado:\n",
    "\n",
    "SP – R$67.836,43\n",
    "RJ – R$36.678,66\n",
    "MG – R$29.229,88\n",
    "ES – R$27.165,48\n",
    "Outros – R$19.849,53\n",
    "\n",
    "Escreva um programa na linguagem que desejar onde calcule o percentual de representação que cada estado teve dentro do valor total mensal da distribuidora."
   ]
  },
  {
   "cell_type": "code",
   "execution_count": 1,
   "id": "1d5f7a3a",
   "metadata": {},
   "outputs": [
    {
     "name": "stdout",
     "output_type": "stream",
     "text": [
      "SP: 37.53%\n",
      "RJ: 20.29%\n",
      "MG: 16.17%\n",
      "ES: 15.03%\n",
      "Outros: 10.98%\n"
     ]
    }
   ],
   "source": [
    "faturamento_estados = {\n",
    "    'SP': 67836.43,\n",
    "    'RJ': 36678.66,\n",
    "    'MG': 29229.88,\n",
    "    'ES': 27165.48,\n",
    "    'Outros': 19849.53\n",
    "}\n",
    "\n",
    "# Calcula o valor total mensal da distribuidora\n",
    "valor_total = sum(faturamento_estados.values())\n",
    "\n",
    "# Calcula o percentual de representação de cada estado\n",
    "percentuais = {estado: (valor / valor_total) * 100 for estado, valor in faturamento_estados.items()}\n",
    "\n",
    "# Exibe os percentuais de representação de cada estado\n",
    "for estado, percentual in percentuais.items():\n",
    "    print(f'{estado}: {percentual:.2f}%')\n"
   ]
  },
  {
   "cell_type": "code",
   "execution_count": null,
   "id": "38476c76",
   "metadata": {},
   "outputs": [],
   "source": []
  }
 ],
 "metadata": {
  "kernelspec": {
   "display_name": "Python 3 (ipykernel)",
   "language": "python",
   "name": "python3"
  },
  "language_info": {
   "codemirror_mode": {
    "name": "ipython",
    "version": 3
   },
   "file_extension": ".py",
   "mimetype": "text/x-python",
   "name": "python",
   "nbconvert_exporter": "python",
   "pygments_lexer": "ipython3",
   "version": "3.9.7"
  }
 },
 "nbformat": 4,
 "nbformat_minor": 5
}
