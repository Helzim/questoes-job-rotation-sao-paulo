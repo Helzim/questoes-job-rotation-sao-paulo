{
 "cells": [
  {
   "cell_type": "markdown",
   "id": "89f142d0",
   "metadata": {},
   "source": [
    "5) Escreva um programa que inverta os caracteres de um string.\n",
    "\n",
    "IMPORTANTE:\n",
    "a) Essa string pode ser informada através de qualquer entrada de sua preferência ou pode ser previamente definida no código;\n",
    "b) Evite usar funções prontas, como, por exemplo, reverse;"
   ]
  },
  {
   "cell_type": "code",
   "execution_count": 1,
   "id": "602a850e",
   "metadata": {},
   "outputs": [
    {
     "name": "stdout",
     "output_type": "stream",
     "text": [
      "Digite uma string: Helbert\n",
      "String invertida:  trebleH\n"
     ]
    }
   ],
   "source": [
    "string = input(\"Digite uma string: \")\n",
    "\n",
    "# Converter a string em uma lista de caracteres\n",
    "lista_caracteres = list(string)\n",
    "\n",
    "# Inverter a lista de caracteres\n",
    "for i in range(len(lista_caracteres) // 2):\n",
    "    temp = lista_caracteres[i]\n",
    "    lista_caracteres[i] = lista_caracteres[len(lista_caracteres) - i - 1]\n",
    "    lista_caracteres[len(lista_caracteres) - i - 1] = temp\n",
    "\n",
    "# Converter a lista de caracteres de volta para uma string\n",
    "string_invertida = \"\".join(lista_caracteres)\n",
    "\n",
    "print(\"String invertida: \", string_invertida)\n"
   ]
  },
  {
   "cell_type": "code",
   "execution_count": null,
   "id": "42a41870",
   "metadata": {},
   "outputs": [],
   "source": []
  }
 ],
 "metadata": {
  "kernelspec": {
   "display_name": "Python 3 (ipykernel)",
   "language": "python",
   "name": "python3"
  },
  "language_info": {
   "codemirror_mode": {
    "name": "ipython",
    "version": 3
   },
   "file_extension": ".py",
   "mimetype": "text/x-python",
   "name": "python",
   "nbconvert_exporter": "python",
   "pygments_lexer": "ipython3",
   "version": "3.9.7"
  }
 },
 "nbformat": 4,
 "nbformat_minor": 5
}
