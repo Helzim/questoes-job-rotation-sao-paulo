{
 "cells": [
  {
   "cell_type": "markdown",
   "id": "0f966ae7",
   "metadata": {},
   "source": [
    "Codigo para gerar valores aleatorios de faturamento para a questão 03"
   ]
  },
  {
   "cell_type": "code",
   "execution_count": 1,
   "id": "1ef506f1",
   "metadata": {},
   "outputs": [],
   "source": [
    "import random\n",
    "import json\n",
    "\n",
    "# Gera 31 valores aleatórios para representar o faturamento diário\n",
    "faturamento_mensal = [random.randint(0, 10000) for _ in range(31)]\n",
    "\n",
    "# Salva os valores em um arquivo JSON\n",
    "with open('faturamento_mensal.json', 'w') as file:\n",
    "    json.dump(faturamento_mensal, file)\n"
   ]
  }
 ],
 "metadata": {
  "kernelspec": {
   "display_name": "Python 3 (ipykernel)",
   "language": "python",
   "name": "python3"
  },
  "language_info": {
   "codemirror_mode": {
    "name": "ipython",
    "version": 3
   },
   "file_extension": ".py",
   "mimetype": "text/x-python",
   "name": "python",
   "nbconvert_exporter": "python",
   "pygments_lexer": "ipython3",
   "version": "3.9.7"
  }
 },
 "nbformat": 4,
 "nbformat_minor": 5
}
